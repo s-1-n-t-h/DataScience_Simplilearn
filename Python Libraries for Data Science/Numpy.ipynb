{
 "cells": [
  {
   "cell_type": "code",
   "execution_count": 1,
   "id": "d341bc70",
   "metadata": {},
   "outputs": [],
   "source": [
    "import numpy as np"
   ]
  },
  {
   "cell_type": "code",
   "execution_count": 7,
   "id": "e7ea2da7",
   "metadata": {},
   "outputs": [],
   "source": [
    "# first numpy array"
   ]
  },
  {
   "cell_type": "code",
   "execution_count": 2,
   "id": "2387d99a",
   "metadata": {},
   "outputs": [],
   "source": [
    "first_np_array = np.array([1,2,3])"
   ]
  },
  {
   "cell_type": "code",
   "execution_count": 5,
   "id": "fa563edd",
   "metadata": {},
   "outputs": [
    {
     "data": {
      "text/plain": [
       "array([1, 2, 3])"
      ]
     },
     "execution_count": 5,
     "metadata": {},
     "output_type": "execute_result"
    }
   ],
   "source": [
    "first_np_array"
   ]
  },
  {
   "cell_type": "code",
   "execution_count": 6,
   "id": "50b7d01f",
   "metadata": {},
   "outputs": [],
   "source": [
    "# array with only zeroes"
   ]
  },
  {
   "cell_type": "code",
   "execution_count": 10,
   "id": "8363b061",
   "metadata": {},
   "outputs": [
    {
     "data": {
      "text/plain": [
       "array([[0., 0., 0.],\n",
       "       [0., 0., 0.],\n",
       "       [0., 0., 0.]])"
      ]
     },
     "execution_count": 10,
     "metadata": {},
     "output_type": "execute_result"
    }
   ],
   "source": [
    "np.zeros((3,3))"
   ]
  },
  {
   "cell_type": "code",
   "execution_count": 11,
   "id": "de62dd30",
   "metadata": {},
   "outputs": [],
   "source": [
    "# array with ones"
   ]
  },
  {
   "cell_type": "code",
   "execution_count": 13,
   "id": "ce057b00",
   "metadata": {},
   "outputs": [
    {
     "data": {
      "text/plain": [
       "array([[1., 1., 1.],\n",
       "       [1., 1., 1.],\n",
       "       [1., 1., 1.]])"
      ]
     },
     "execution_count": 13,
     "metadata": {},
     "output_type": "execute_result"
    }
   ],
   "source": [
    "np.ones((3,3))"
   ]
  },
  {
   "cell_type": "code",
   "execution_count": 14,
   "id": "7db219f5",
   "metadata": {},
   "outputs": [],
   "source": [
    "# array with empy values (numpy will fill elements by random values)"
   ]
  },
  {
   "cell_type": "code",
   "execution_count": 18,
   "id": "6fc003a2",
   "metadata": {},
   "outputs": [
    {
     "data": {
      "text/plain": [
       "array([[0.        , 0.        , 0.4472136 , 0.0531494 , 0.18257419],\n",
       "       [0.4472136 , 0.2125976 , 0.36514837, 0.4472136 , 0.4783446 ],\n",
       "       [0.54772256, 0.4472136 , 0.85039041, 0.73029674, 0.4472136 ]])"
      ]
     },
     "execution_count": 18,
     "metadata": {},
     "output_type": "execute_result"
    }
   ],
   "source": [
    "np.empty((3,5))"
   ]
  },
  {
   "cell_type": "code",
   "execution_count": 19,
   "id": "947b867e",
   "metadata": {},
   "outputs": [
    {
     "data": {
      "text/plain": [
       "array([[0.00000000e+000, 0.00000000e+000, 1.77863633e-322,\n",
       "        0.00000000e+000, 0.00000000e+000, 1.73855115e-310,\n",
       "        0.00000000e+000, 0.00000000e+000, 0.00000000e+000],\n",
       "       [0.00000000e+000, 0.00000000e+000, 0.00000000e+000,\n",
       "        0.00000000e+000, 0.00000000e+000, 0.00000000e+000,\n",
       "        0.00000000e+000, 0.00000000e+000, 0.00000000e+000],\n",
       "       [0.00000000e+000, 0.00000000e+000, 0.00000000e+000,\n",
       "        0.00000000e+000, 0.00000000e+000, 0.00000000e+000,\n",
       "        0.00000000e+000, 0.00000000e+000, 0.00000000e+000],\n",
       "       [0.00000000e+000, 0.00000000e+000, 0.00000000e+000,\n",
       "        0.00000000e+000, 0.00000000e+000, 0.00000000e+000,\n",
       "        0.00000000e+000, 0.00000000e+000, 0.00000000e+000],\n",
       "       [0.00000000e+000, 0.00000000e+000, 0.00000000e+000,\n",
       "        0.00000000e+000, 0.00000000e+000, 0.00000000e+000,\n",
       "        0.00000000e+000, 0.00000000e+000, 0.00000000e+000]])"
      ]
     },
     "execution_count": 19,
     "metadata": {},
     "output_type": "execute_result"
    }
   ],
   "source": [
    "np.empty((5,9))"
   ]
  },
  {
   "cell_type": "code",
   "execution_count": 20,
   "id": "11e25f9f",
   "metadata": {},
   "outputs": [],
   "source": [
    "# creating an array with a range of values"
   ]
  },
  {
   "cell_type": "code",
   "execution_count": 22,
   "id": "31decd7f",
   "metadata": {},
   "outputs": [],
   "source": [
    "arange = np.arange(12)"
   ]
  },
  {
   "cell_type": "code",
   "execution_count": 23,
   "id": "c1ed66bc",
   "metadata": {},
   "outputs": [
    {
     "data": {
      "text/plain": [
       "array([ 0,  1,  2,  3,  4,  5,  6,  7,  8,  9, 10, 11])"
      ]
     },
     "execution_count": 23,
     "metadata": {},
     "output_type": "execute_result"
    }
   ],
   "source": [
    "arange"
   ]
  },
  {
   "cell_type": "code",
   "execution_count": 24,
   "id": "73e77e2c",
   "metadata": {},
   "outputs": [],
   "source": [
    "# reshaping array"
   ]
  },
  {
   "cell_type": "code",
   "execution_count": 27,
   "id": "7cc93f61",
   "metadata": {},
   "outputs": [
    {
     "data": {
      "text/plain": [
       "array([[ 0,  1,  2,  3],\n",
       "       [ 4,  5,  6,  7],\n",
       "       [ 8,  9, 10, 11]])"
      ]
     },
     "execution_count": 27,
     "metadata": {},
     "output_type": "execute_result"
    }
   ],
   "source": [
    "arange.reshape((3,4)) # shallow copy is returned and can be stored in another object"
   ]
  },
  {
   "cell_type": "code",
   "execution_count": 26,
   "id": "44f3da27",
   "metadata": {},
   "outputs": [
    {
     "data": {
      "text/plain": [
       "array([ 0,  1,  2,  3,  4,  5,  6,  7,  8,  9, 10, 11])"
      ]
     },
     "execution_count": 26,
     "metadata": {},
     "output_type": "execute_result"
    }
   ],
   "source": [
    "arange"
   ]
  },
  {
   "cell_type": "code",
   "execution_count": 28,
   "id": "944ca847",
   "metadata": {},
   "outputs": [],
   "source": [
    "# linespace for linearly equally spaced data elements"
   ]
  },
  {
   "cell_type": "code",
   "execution_count": 32,
   "id": "475a9175",
   "metadata": {},
   "outputs": [
    {
     "data": {
      "text/plain": [
       "array([21.        , 21.36734694, 21.73469388, 22.10204082, 22.46938776,\n",
       "       22.83673469, 23.20408163, 23.57142857, 23.93877551, 24.30612245,\n",
       "       24.67346939, 25.04081633, 25.40816327, 25.7755102 , 26.14285714,\n",
       "       26.51020408, 26.87755102, 27.24489796, 27.6122449 , 27.97959184,\n",
       "       28.34693878, 28.71428571, 29.08163265, 29.44897959, 29.81632653,\n",
       "       30.18367347, 30.55102041, 30.91836735, 31.28571429, 31.65306122,\n",
       "       32.02040816, 32.3877551 , 32.75510204, 33.12244898, 33.48979592,\n",
       "       33.85714286, 34.2244898 , 34.59183673, 34.95918367, 35.32653061,\n",
       "       35.69387755, 36.06122449, 36.42857143, 36.79591837, 37.16326531,\n",
       "       37.53061224, 37.89795918, 38.26530612, 38.63265306, 39.        ])"
      ]
     },
     "execution_count": 32,
     "metadata": {},
     "output_type": "execute_result"
    }
   ],
   "source": [
    "np.linspace(21,39,50) # forms an ap within the given range of elements"
   ]
  },
  {
   "cell_type": "code",
   "execution_count": 33,
   "id": "5c16581b",
   "metadata": {},
   "outputs": [],
   "source": [
    "# 1 - D array"
   ]
  },
  {
   "cell_type": "code",
   "execution_count": 34,
   "id": "da8c1d75",
   "metadata": {},
   "outputs": [
    {
     "data": {
      "text/plain": [
       "array([0, 1, 2, 3, 4, 5, 6, 7, 8, 9])"
      ]
     },
     "execution_count": 34,
     "metadata": {},
     "output_type": "execute_result"
    }
   ],
   "source": [
    "np.arange(10)"
   ]
  },
  {
   "cell_type": "code",
   "execution_count": 35,
   "id": "c9782a8e",
   "metadata": {},
   "outputs": [
    {
     "data": {
      "text/plain": [
       "array([0, 1, 2, 3, 4, 5, 6, 7, 8, 9])"
      ]
     },
     "execution_count": 35,
     "metadata": {},
     "output_type": "execute_result"
    }
   ],
   "source": [
    "np.array(range(10))"
   ]
  },
  {
   "cell_type": "code",
   "execution_count": 38,
   "id": "051f92f5",
   "metadata": {},
   "outputs": [
    {
     "data": {
      "text/plain": [
       "array([  1,   2, 234,   5,   4,   4,   5,   1,  45])"
      ]
     },
     "execution_count": 38,
     "metadata": {},
     "output_type": "execute_result"
    }
   ],
   "source": [
    "np.array([1,2,234,5,4,4,5,1,45])"
   ]
  },
  {
   "cell_type": "code",
   "execution_count": 39,
   "id": "3fad7c19",
   "metadata": {},
   "outputs": [
    {
     "data": {
      "text/plain": [
       "array([1, 2, 4, 4])"
      ]
     },
     "execution_count": 39,
     "metadata": {},
     "output_type": "execute_result"
    }
   ],
   "source": [
    "np.array((1,2,4,4))"
   ]
  },
  {
   "cell_type": "code",
   "execution_count": 40,
   "id": "d5230d8e",
   "metadata": {},
   "outputs": [],
   "source": [
    "# 2 - D array"
   ]
  },
  {
   "cell_type": "code",
   "execution_count": 41,
   "id": "29a7e6b5",
   "metadata": {},
   "outputs": [
    {
     "data": {
      "text/plain": [
       "array([[ 0,  1,  2,  3],\n",
       "       [ 4,  5,  6,  7],\n",
       "       [ 8,  9, 10, 11]])"
      ]
     },
     "execution_count": 41,
     "metadata": {},
     "output_type": "execute_result"
    }
   ],
   "source": [
    "arange.reshape((3,4))"
   ]
  },
  {
   "cell_type": "code",
   "execution_count": 43,
   "id": "a7e24b9d",
   "metadata": {},
   "outputs": [
    {
     "data": {
      "text/plain": [
       "array([[ 0,  1,  2],\n",
       "       [ 3,  4,  5],\n",
       "       [ 6,  7,  8],\n",
       "       [ 9, 10, 11]])"
      ]
     },
     "execution_count": 43,
     "metadata": {},
     "output_type": "execute_result"
    }
   ],
   "source": [
    "arange.reshape((4,3))"
   ]
  },
  {
   "cell_type": "code",
   "execution_count": 44,
   "id": "a600f990",
   "metadata": {},
   "outputs": [
    {
     "data": {
      "text/plain": [
       "array([[ 0,  1,  2,  3],\n",
       "       [ 4,  5,  6,  7],\n",
       "       [ 8,  9, 10, 11],\n",
       "       [12, 13, 14, 15]])"
      ]
     },
     "execution_count": 44,
     "metadata": {},
     "output_type": "execute_result"
    }
   ],
   "source": [
    "np.arange(16).reshape(4,4)"
   ]
  },
  {
   "cell_type": "code",
   "execution_count": 45,
   "id": "10a69d6e",
   "metadata": {},
   "outputs": [],
   "source": [
    "# 3 - D array"
   ]
  },
  {
   "cell_type": "code",
   "execution_count": 46,
   "id": "d7493296",
   "metadata": {},
   "outputs": [
    {
     "data": {
      "text/plain": [
       "array([[[ 0,  1,  2],\n",
       "        [ 3,  4,  5],\n",
       "        [ 6,  7,  8]],\n",
       "\n",
       "       [[ 9, 10, 11],\n",
       "        [12, 13, 14],\n",
       "        [15, 16, 17]],\n",
       "\n",
       "       [[18, 19, 20],\n",
       "        [21, 22, 23],\n",
       "        [24, 25, 26]]])"
      ]
     },
     "execution_count": 46,
     "metadata": {},
     "output_type": "execute_result"
    }
   ],
   "source": [
    "np.arange(27).reshape(3,3,3)"
   ]
  },
  {
   "cell_type": "code",
   "execution_count": null,
   "id": "2525f646",
   "metadata": {},
   "outputs": [],
   "source": []
  }
 ],
 "metadata": {
  "kernelspec": {
   "display_name": "Python 3.9 (tensorflow)",
   "language": "python",
   "name": "tensorflow"
  },
  "language_info": {
   "codemirror_mode": {
    "name": "ipython",
    "version": 3
   },
   "file_extension": ".py",
   "mimetype": "text/x-python",
   "name": "python",
   "nbconvert_exporter": "python",
   "pygments_lexer": "ipython3",
   "version": "3.9.13"
  }
 },
 "nbformat": 4,
 "nbformat_minor": 5
}
