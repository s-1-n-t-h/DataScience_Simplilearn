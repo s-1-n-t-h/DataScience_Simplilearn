{
 "cells": [
  {
   "cell_type": "markdown",
   "id": "fd7c4285",
   "metadata": {},
   "source": [
    "## Problem Statement\n",
    "\n",
    "###    You have been provided with a dataset that contains the cost of advertising on different media channels and the corresponding sales of XYZ firm. \n",
    "\n",
    "     Evaluate the dataset to:\n",
    "    \n",
    "    1. Find the features or media channels used by the firm\n",
    "    2. Find the sales figures for each channel\n",
    "    3. Create a model to predict the sales outcomes\n",
    "    4. Split it into training and testing datasets for the model\n",
    "    5. Calculates the mean squared erroe (MSE)"
   ]
  },
  {
   "cell_type": "code",
   "execution_count": 1,
   "id": "0e31d8b8",
   "metadata": {},
   "outputs": [],
   "source": [
    "import pandas as pd"
   ]
  },
  {
   "cell_type": "code",
   "execution_count": null,
   "id": "993c9fda",
   "metadata": {},
   "outputs": [],
   "source": []
  }
 ],
 "metadata": {
  "kernelspec": {
   "display_name": "Python 3.9 (tensorflow)",
   "language": "python",
   "name": "tensorflow"
  },
  "language_info": {
   "codemirror_mode": {
    "name": "ipython",
    "version": 3
   },
   "file_extension": ".py",
   "mimetype": "text/x-python",
   "name": "python",
   "nbconvert_exporter": "python",
   "pygments_lexer": "ipython3",
   "version": "3.9.13"
  }
 },
 "nbformat": 4,
 "nbformat_minor": 5
}
