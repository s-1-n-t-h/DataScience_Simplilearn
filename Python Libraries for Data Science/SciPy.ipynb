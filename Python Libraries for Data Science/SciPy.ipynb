{
 "cells": [
  {
   "cell_type": "markdown",
   "id": "bd39bd8a",
   "metadata": {},
   "source": [
    "## Problem Statement\n",
    " - Import the package linalg from the SciPy library and use the solve method, the provided linear equations to find the values x and y"
   ]
  },
  {
   "cell_type": "code",
   "execution_count": 15,
   "id": "e0f6fc91",
   "metadata": {},
   "outputs": [],
   "source": [
    "import numpy as np\n",
    "from scipy import linalg"
   ]
  },
  {
   "cell_type": "code",
   "execution_count": 16,
   "id": "6e14a3d2",
   "metadata": {},
   "outputs": [],
   "source": [
    "# test has 30 questions and worth 150 marks\n",
    "# true and false questions worth 4 marks each\n",
    "# multiple choice questions worth 9 points each\n",
    "\n",
    "# let x is the number of true/false questions\n",
    "# let y is the number of multiple choice questions\n",
    "\n",
    "# (x + y = 30)\n",
    "# (4x + 9y = 150 )\n",
    "\n",
    "variablesCoeffs = np.array([[1,1],[4,9]]) # 2-D\n",
    "constantValues = np.array([30,150]) # 1-D"
   ]
  },
  {
   "cell_type": "code",
   "execution_count": 17,
   "id": "e265bfff",
   "metadata": {},
   "outputs": [
    {
     "data": {
      "text/plain": [
       "array([24.,  6.])"
      ]
     },
     "execution_count": 17,
     "metadata": {},
     "output_type": "execute_result"
    }
   ],
   "source": [
    "linalg.solve(variablesCoeffs,constantValues)"
   ]
  },
  {
   "cell_type": "code",
   "execution_count": null,
   "id": "1da8d20b",
   "metadata": {},
   "outputs": [],
   "source": []
  }
 ],
 "metadata": {
  "kernelspec": {
   "display_name": "Python 3.9 (tensorflow)",
   "language": "python",
   "name": "tensorflow"
  },
  "language_info": {
   "codemirror_mode": {
    "name": "ipython",
    "version": 3
   },
   "file_extension": ".py",
   "mimetype": "text/x-python",
   "name": "python",
   "nbconvert_exporter": "python",
   "pygments_lexer": "ipython3",
   "version": "3.9.13"
  }
 },
 "nbformat": 4,
 "nbformat_minor": 5
}
